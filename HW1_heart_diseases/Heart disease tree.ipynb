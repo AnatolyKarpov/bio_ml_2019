{
 "cells": [
  {
   "cell_type": "code",
   "execution_count": 1,
   "metadata": {
    "collapsed": true
   },
   "outputs": [],
   "source": [
    "# Imports\n",
    "import pandas as pd\n",
    "from sklearn import tree\n",
    "import matplotlib.pyplot as plt\n",
    "import seaborn as sns; sns.set()\n",
    "%matplotlib inline \n",
    "from IPython.display import SVG\n",
    "from graphviz import Source\n",
    "from IPython.display import display\n",
    "from IPython.display import HTML\n",
    "from sklearn.model_selection import train_test_split\n",
    "from sklearn.model_selection import cross_val_score\n"
   ]
  },
  {
   "cell_type": "code",
   "execution_count": 12,
   "metadata": {
    "collapsed": true
   },
   "outputs": [],
   "source": [
    "# Load data\n",
    "data = pd.read_csv('HeartDiseaseData.csv')"
   ]
  },
  {
   "cell_type": "code",
   "execution_count": 13,
   "metadata": {
    "collapsed": false
   },
   "outputs": [
    {
     "data": {
      "text/html": [
       "<div>\n",
       "<style scoped>\n",
       "    .dataframe tbody tr th:only-of-type {\n",
       "        vertical-align: middle;\n",
       "    }\n",
       "\n",
       "    .dataframe tbody tr th {\n",
       "        vertical-align: top;\n",
       "    }\n",
       "\n",
       "    .dataframe thead th {\n",
       "        text-align: right;\n",
       "    }\n",
       "</style>\n",
       "<table border=\"1\" class=\"dataframe\">\n",
       "  <thead>\n",
       "    <tr style=\"text-align: right;\">\n",
       "      <th></th>\n",
       "      <th>Unnamed: 0</th>\n",
       "      <th>ID</th>\n",
       "      <th>Age</th>\n",
       "      <th>Sex</th>\n",
       "      <th>cp</th>\n",
       "      <th>trestbps</th>\n",
       "      <th>chol</th>\n",
       "      <th>fbs</th>\n",
       "      <th>restecg</th>\n",
       "      <th>thalach</th>\n",
       "      <th>exang</th>\n",
       "      <th>oldpeak</th>\n",
       "      <th>num</th>\n",
       "      <th>Place</th>\n",
       "    </tr>\n",
       "  </thead>\n",
       "  <tbody>\n",
       "    <tr>\n",
       "      <th>0</th>\n",
       "      <td>1</td>\n",
       "      <td>1</td>\n",
       "      <td>28</td>\n",
       "      <td>male</td>\n",
       "      <td>atypical angina</td>\n",
       "      <td>130.0</td>\n",
       "      <td>132.0</td>\n",
       "      <td>False</td>\n",
       "      <td>showing probable or definite left ventricular ...</td>\n",
       "      <td>185.0</td>\n",
       "      <td>no</td>\n",
       "      <td>0.0</td>\n",
       "      <td>0</td>\n",
       "      <td>Hungary</td>\n",
       "    </tr>\n",
       "    <tr>\n",
       "      <th>1</th>\n",
       "      <td>2</td>\n",
       "      <td>2</td>\n",
       "      <td>29</td>\n",
       "      <td>male</td>\n",
       "      <td>atypical angina</td>\n",
       "      <td>120.0</td>\n",
       "      <td>243.0</td>\n",
       "      <td>False</td>\n",
       "      <td>normal</td>\n",
       "      <td>160.0</td>\n",
       "      <td>no</td>\n",
       "      <td>0.0</td>\n",
       "      <td>0</td>\n",
       "      <td>Hungary</td>\n",
       "    </tr>\n",
       "    <tr>\n",
       "      <th>2</th>\n",
       "      <td>3</td>\n",
       "      <td>3</td>\n",
       "      <td>29</td>\n",
       "      <td>male</td>\n",
       "      <td>atypical angina</td>\n",
       "      <td>140.0</td>\n",
       "      <td>NaN</td>\n",
       "      <td>False</td>\n",
       "      <td>normal</td>\n",
       "      <td>170.0</td>\n",
       "      <td>no</td>\n",
       "      <td>0.0</td>\n",
       "      <td>0</td>\n",
       "      <td>Hungary</td>\n",
       "    </tr>\n",
       "    <tr>\n",
       "      <th>3</th>\n",
       "      <td>4</td>\n",
       "      <td>4</td>\n",
       "      <td>30</td>\n",
       "      <td>female</td>\n",
       "      <td>typical angina</td>\n",
       "      <td>170.0</td>\n",
       "      <td>237.0</td>\n",
       "      <td>False</td>\n",
       "      <td>having ST-T wave abnormality (T wave inversion...</td>\n",
       "      <td>170.0</td>\n",
       "      <td>no</td>\n",
       "      <td>0.0</td>\n",
       "      <td>0</td>\n",
       "      <td>Hungary</td>\n",
       "    </tr>\n",
       "    <tr>\n",
       "      <th>4</th>\n",
       "      <td>5</td>\n",
       "      <td>5</td>\n",
       "      <td>31</td>\n",
       "      <td>female</td>\n",
       "      <td>atypical angina</td>\n",
       "      <td>100.0</td>\n",
       "      <td>219.0</td>\n",
       "      <td>False</td>\n",
       "      <td>having ST-T wave abnormality (T wave inversion...</td>\n",
       "      <td>150.0</td>\n",
       "      <td>no</td>\n",
       "      <td>0.0</td>\n",
       "      <td>0</td>\n",
       "      <td>Hungary</td>\n",
       "    </tr>\n",
       "  </tbody>\n",
       "</table>\n",
       "</div>"
      ],
      "text/plain": [
       "   Unnamed: 0  ID  Age     Sex               cp  trestbps   chol    fbs  \\\n",
       "0           1   1   28    male  atypical angina     130.0  132.0  False   \n",
       "1           2   2   29    male  atypical angina     120.0  243.0  False   \n",
       "2           3   3   29    male  atypical angina     140.0    NaN  False   \n",
       "3           4   4   30  female   typical angina     170.0  237.0  False   \n",
       "4           5   5   31  female  atypical angina     100.0  219.0  False   \n",
       "\n",
       "                                             restecg  thalach exang  oldpeak  \\\n",
       "0  showing probable or definite left ventricular ...    185.0    no      0.0   \n",
       "1                                             normal    160.0    no      0.0   \n",
       "2                                             normal    170.0    no      0.0   \n",
       "3  having ST-T wave abnormality (T wave inversion...    170.0    no      0.0   \n",
       "4  having ST-T wave abnormality (T wave inversion...    150.0    no      0.0   \n",
       "\n",
       "   num    Place  \n",
       "0    0  Hungary  \n",
       "1    0  Hungary  \n",
       "2    0  Hungary  \n",
       "3    0  Hungary  \n",
       "4    0  Hungary  "
      ]
     },
     "execution_count": 13,
     "metadata": {},
     "output_type": "execute_result"
    }
   ],
   "source": [
    "# Describe data\n",
    "data.head()"
   ]
  },
  {
   "cell_type": "code",
   "execution_count": 14,
   "metadata": {
    "collapsed": false
   },
   "outputs": [
    {
     "data": {
      "text/html": [
       "<div>\n",
       "<style scoped>\n",
       "    .dataframe tbody tr th:only-of-type {\n",
       "        vertical-align: middle;\n",
       "    }\n",
       "\n",
       "    .dataframe tbody tr th {\n",
       "        vertical-align: top;\n",
       "    }\n",
       "\n",
       "    .dataframe thead th {\n",
       "        text-align: right;\n",
       "    }\n",
       "</style>\n",
       "<table border=\"1\" class=\"dataframe\">\n",
       "  <thead>\n",
       "    <tr style=\"text-align: right;\">\n",
       "      <th></th>\n",
       "      <th>Unnamed: 0</th>\n",
       "      <th>ID</th>\n",
       "      <th>Age</th>\n",
       "      <th>trestbps</th>\n",
       "      <th>chol</th>\n",
       "      <th>thalach</th>\n",
       "      <th>oldpeak</th>\n",
       "      <th>num</th>\n",
       "    </tr>\n",
       "  </thead>\n",
       "  <tbody>\n",
       "    <tr>\n",
       "      <th>count</th>\n",
       "      <td>457.000000</td>\n",
       "      <td>457.000000</td>\n",
       "      <td>457.000000</td>\n",
       "      <td>424.000000</td>\n",
       "      <td>431.000000</td>\n",
       "      <td>424.000000</td>\n",
       "      <td>421.000000</td>\n",
       "      <td>457.000000</td>\n",
       "    </tr>\n",
       "    <tr>\n",
       "      <th>mean</th>\n",
       "      <td>229.000000</td>\n",
       "      <td>229.000000</td>\n",
       "      <td>50.962801</td>\n",
       "      <td>131.488208</td>\n",
       "      <td>200.048724</td>\n",
       "      <td>134.910377</td>\n",
       "      <td>0.622090</td>\n",
       "      <td>0.459519</td>\n",
       "    </tr>\n",
       "    <tr>\n",
       "      <th>std</th>\n",
       "      <td>132.068795</td>\n",
       "      <td>132.068795</td>\n",
       "      <td>9.219588</td>\n",
       "      <td>18.829454</td>\n",
       "      <td>113.463794</td>\n",
       "      <td>24.251177</td>\n",
       "      <td>0.922115</td>\n",
       "      <td>0.498905</td>\n",
       "    </tr>\n",
       "    <tr>\n",
       "      <th>min</th>\n",
       "      <td>1.000000</td>\n",
       "      <td>1.000000</td>\n",
       "      <td>28.000000</td>\n",
       "      <td>80.000000</td>\n",
       "      <td>0.000000</td>\n",
       "      <td>69.000000</td>\n",
       "      <td>-2.600000</td>\n",
       "      <td>0.000000</td>\n",
       "    </tr>\n",
       "    <tr>\n",
       "      <th>25%</th>\n",
       "      <td>115.000000</td>\n",
       "      <td>115.000000</td>\n",
       "      <td>45.000000</td>\n",
       "      <td>120.000000</td>\n",
       "      <td>171.000000</td>\n",
       "      <td>118.000000</td>\n",
       "      <td>0.000000</td>\n",
       "      <td>0.000000</td>\n",
       "    </tr>\n",
       "    <tr>\n",
       "      <th>50%</th>\n",
       "      <td>229.000000</td>\n",
       "      <td>229.000000</td>\n",
       "      <td>52.000000</td>\n",
       "      <td>130.000000</td>\n",
       "      <td>220.000000</td>\n",
       "      <td>135.000000</td>\n",
       "      <td>0.000000</td>\n",
       "      <td>0.000000</td>\n",
       "    </tr>\n",
       "    <tr>\n",
       "      <th>75%</th>\n",
       "      <td>343.000000</td>\n",
       "      <td>343.000000</td>\n",
       "      <td>57.000000</td>\n",
       "      <td>140.000000</td>\n",
       "      <td>269.500000</td>\n",
       "      <td>150.000000</td>\n",
       "      <td>1.000000</td>\n",
       "      <td>1.000000</td>\n",
       "    </tr>\n",
       "    <tr>\n",
       "      <th>max</th>\n",
       "      <td>457.000000</td>\n",
       "      <td>457.000000</td>\n",
       "      <td>75.000000</td>\n",
       "      <td>200.000000</td>\n",
       "      <td>603.000000</td>\n",
       "      <td>190.000000</td>\n",
       "      <td>5.000000</td>\n",
       "      <td>1.000000</td>\n",
       "    </tr>\n",
       "  </tbody>\n",
       "</table>\n",
       "</div>"
      ],
      "text/plain": [
       "       Unnamed: 0          ID         Age    trestbps        chol     thalach  \\\n",
       "count  457.000000  457.000000  457.000000  424.000000  431.000000  424.000000   \n",
       "mean   229.000000  229.000000   50.962801  131.488208  200.048724  134.910377   \n",
       "std    132.068795  132.068795    9.219588   18.829454  113.463794   24.251177   \n",
       "min      1.000000    1.000000   28.000000   80.000000    0.000000   69.000000   \n",
       "25%    115.000000  115.000000   45.000000  120.000000  171.000000  118.000000   \n",
       "50%    229.000000  229.000000   52.000000  130.000000  220.000000  135.000000   \n",
       "75%    343.000000  343.000000   57.000000  140.000000  269.500000  150.000000   \n",
       "max    457.000000  457.000000   75.000000  200.000000  603.000000  190.000000   \n",
       "\n",
       "          oldpeak         num  \n",
       "count  421.000000  457.000000  \n",
       "mean     0.622090    0.459519  \n",
       "std      0.922115    0.498905  \n",
       "min     -2.600000    0.000000  \n",
       "25%      0.000000    0.000000  \n",
       "50%      0.000000    0.000000  \n",
       "75%      1.000000    1.000000  \n",
       "max      5.000000    1.000000  "
      ]
     },
     "execution_count": 14,
     "metadata": {},
     "output_type": "execute_result"
    }
   ],
   "source": [
    "data.describe()"
   ]
  },
  {
   "cell_type": "code",
   "execution_count": 15,
   "metadata": {
    "collapsed": false
   },
   "outputs": [
    {
     "data": {
      "text/plain": [
       "(457, 14)"
      ]
     },
     "execution_count": 15,
     "metadata": {},
     "output_type": "execute_result"
    }
   ],
   "source": [
    "data.shape"
   ]
  },
  {
   "cell_type": "code",
   "execution_count": 16,
   "metadata": {
    "collapsed": false
   },
   "outputs": [
    {
     "name": "stdout",
     "output_type": "stream",
     "text": [
      "<class 'pandas.core.frame.DataFrame'>\n",
      "RangeIndex: 457 entries, 0 to 456\n",
      "Data columns (total 14 columns):\n",
      "Unnamed: 0    457 non-null int64\n",
      "ID            457 non-null int64\n",
      "Age           457 non-null int64\n",
      "Sex           457 non-null object\n",
      "cp            457 non-null object\n",
      "trestbps      424 non-null float64\n",
      "chol          431 non-null float64\n",
      "fbs           403 non-null object\n",
      "restecg       455 non-null object\n",
      "thalach       424 non-null float64\n",
      "exang         424 non-null object\n",
      "oldpeak       421 non-null float64\n",
      "num           457 non-null int64\n",
      "Place         457 non-null object\n",
      "dtypes: float64(4), int64(4), object(6)\n",
      "memory usage: 50.1+ KB\n"
     ]
    }
   ],
   "source": [
    "data.info()"
   ]
  },
  {
   "cell_type": "code",
   "execution_count": 17,
   "metadata": {
    "collapsed": true
   },
   "outputs": [],
   "source": [
    "# Get rid of useless information\n",
    "data = data.drop(['Unnamed: 0', 'ID'], axis=1)\n"
   ]
  },
  {
   "cell_type": "code",
   "execution_count": 21,
   "metadata": {
    "collapsed": false
   },
   "outputs": [],
   "source": [
    "# Fill NA values with mean for columns where it's possible. Get rid of other NAs.\n",
    "data = data.fillna({'trestbps': data.trestbps.mean(), 'chol': data.chol.mean(), 'thalach': data.thalach.mean(), 'oldpeak': data.oldpeak.mean()})\n",
    "data = data.fillna({'fbs': bool(data.fbs.mean())})\n",
    "data = data.dropna(axis = 0)"
   ]
  },
  {
   "cell_type": "code",
   "execution_count": 22,
   "metadata": {
    "collapsed": false
   },
   "outputs": [
    {
     "data": {
      "text/plain": [
       "Age         0\n",
       "Sex         0\n",
       "cp          0\n",
       "trestbps    0\n",
       "chol        0\n",
       "fbs         0\n",
       "restecg     0\n",
       "thalach     0\n",
       "exang       0\n",
       "oldpeak     0\n",
       "num         0\n",
       "Place       0\n",
       "dtype: int64"
      ]
     },
     "execution_count": 22,
     "metadata": {},
     "output_type": "execute_result"
    }
   ],
   "source": [
    "# Check for NAs now\n",
    "data.isnull().sum()"
   ]
  },
  {
   "cell_type": "code",
   "execution_count": 23,
   "metadata": {
    "collapsed": true
   },
   "outputs": [],
   "source": [
    "# Turn factor columns into numeric\n",
    "data = pd.get_dummies(data)"
   ]
  },
  {
   "cell_type": "code",
   "execution_count": 24,
   "metadata": {
    "collapsed": false
   },
   "outputs": [
    {
     "name": "stdout",
     "output_type": "stream",
     "text": [
      "<class 'pandas.core.frame.DataFrame'>\n",
      "Int64Index: 422 entries, 0 to 456\n",
      "Data columns (total 21 columns):\n",
      "Age                                                                                                       422 non-null int64\n",
      "trestbps                                                                                                  422 non-null float64\n",
      "chol                                                                                                      422 non-null float64\n",
      "fbs                                                                                                       422 non-null bool\n",
      "thalach                                                                                                   422 non-null float64\n",
      "oldpeak                                                                                                   422 non-null float64\n",
      "num                                                                                                       422 non-null int64\n",
      "Sex_female                                                                                                422 non-null uint8\n",
      "Sex_male                                                                                                  422 non-null uint8\n",
      "cp_asymptomatic                                                                                           422 non-null uint8\n",
      "cp_atypical angina                                                                                        422 non-null uint8\n",
      "cp_non-anginal pain                                                                                       422 non-null uint8\n",
      "cp_typical angina                                                                                         422 non-null uint8\n",
      "restecg_having ST-T wave abnormality (T wave inversions and/or ST elevation or depression of > 0.05 mV    422 non-null uint8\n",
      "restecg_normal                                                                                            422 non-null uint8\n",
      "restecg_showing probable or definite left ventricular hypertrophy by Estes criteria                       422 non-null uint8\n",
      "exang_no                                                                                                  422 non-null uint8\n",
      "exang_yes                                                                                                 422 non-null uint8\n",
      "Place_Hungary                                                                                             422 non-null uint8\n",
      "Place_Switzerland                                                                                         422 non-null uint8\n",
      "Place_VA                                                                                                  422 non-null uint8\n",
      "dtypes: bool(1), float64(4), int64(2), uint8(14)\n",
      "memory usage: 29.3 KB\n"
     ]
    }
   ],
   "source": [
    "# View data before fitting a model\n",
    "data.info()"
   ]
  },
  {
   "cell_type": "code",
   "execution_count": 25,
   "metadata": {
    "collapsed": true
   },
   "outputs": [],
   "source": [
    "# Predictive and predicting variables separation\n",
    "X = data.drop('num', axis=1)\n",
    "y = data.num"
   ]
  },
  {
   "cell_type": "code",
   "execution_count": 26,
   "metadata": {
    "collapsed": false
   },
   "outputs": [],
   "source": [
    "# Model declaration\n",
    "clf = tree.DecisionTreeClassifier(criterion='entropy')"
   ]
  },
  {
   "cell_type": "code",
   "execution_count": 27,
   "metadata": {
    "collapsed": false
   },
   "outputs": [],
   "source": [
    "# Dividing data into train and test parts\n",
    "X_train, X_test, y_train, y_test = train_test_split(X, y, test_size=0.33, random_state=42)"
   ]
  },
  {
   "cell_type": "code",
   "execution_count": 28,
   "metadata": {
    "collapsed": false
   },
   "outputs": [],
   "source": [
    "# Multiple depth values\n",
    "max_depth_values = range(1, 30)\n",
    "classifier_score_data = pd.DataFrame()"
   ]
  },
  {
   "cell_type": "code",
   "execution_count": 29,
   "metadata": {
    "collapsed": false
   },
   "outputs": [],
   "source": [
    "# Model fitting for different test values\n",
    "for max_dept in max_depth_values:\n",
    "    clf = tree.DecisionTreeClassifier(criterion='entropy', max_depth=max_dept)\n",
    "    clf.fit(X_train, y_train)\n",
    "    test_score = clf.score(X_test, y_test)\n",
    "    train_score = clf.score(X_train, y_train)\n",
    "    \n",
    "    mean_cross_val_score = cross_val_score(clf, X_train, y_train, cv = 5, scoring = 'precision').mean()\n",
    "    \n",
    "    classifier_score_data = classifier_score_data \\\n",
    "        .append(pd.DataFrame({'test_score': [test_score], \n",
    "                              'train_score': [train_score], \n",
    "                              'max_dept': [max_dept], \n",
    "                              'mean_cross_val_score': [mean_cross_val_score]}))"
   ]
  },
  {
   "cell_type": "code",
   "execution_count": 30,
   "metadata": {
    "collapsed": false
   },
   "outputs": [
    {
     "data": {
      "image/png": "[encoded data removed]",
      "text/plain": [
       "<Figure size 432x288 with 1 Axes>"
      ]
     },
     "metadata": {},
     "output_type": "display_data"
    }
   ],
   "source": [
    "# Depth analysis results\n",
    "classifier_score_data = pd.melt(classifier_score_data, id_vars=['max_dept'], var_name='set_type', value_name='score')\n",
    "ax = sns.lineplot(x=\"max_dept\", y=\"score\",\n",
    "                  hue=\"set_type\", data=classifier_score_data)\n",
    "# Will use 3 as a tree depth."
   ]
  },
  {
   "cell_type": "code",
   "execution_count": 32,
   "metadata": {
    "collapsed": true
   },
   "outputs": [],
   "source": [
    "clf_depth_3 = tree.DecisionTreeClassifier(criterion='entropy', max_depth=3)"
   ]
  },
  {
   "cell_type": "code",
   "execution_count": 33,
   "metadata": {
    "collapsed": false
   },
   "outputs": [
    {
     "data": {
      "text/plain": [
       "0.8014184397163121"
      ]
     },
     "execution_count": 33,
     "metadata": {},
     "output_type": "execute_result"
    }
   ],
   "source": [
    "clf_depth_3.fit(X_train, y_train)\n",
    "clf_depth_3.score(X_train, y_train)"
   ]
  },
  {
   "cell_type": "code",
   "execution_count": 34,
   "metadata": {
    "collapsed": false
   },
   "outputs": [
    {
     "data": {
      "text/plain": [
       "0.69285714285714284"
      ]
     },
     "execution_count": 34,
     "metadata": {},
     "output_type": "execute_result"
    }
   ],
   "source": [
    "clf_depth_3.score(X_test, y_test)"
   ]
  },
  {
   "cell_type": "code",
   "execution_count": 36,
   "metadata": {
    "collapsed": false
   },
   "outputs": [
    {
     "data": {
      "text/plain": [
       "0.69533151059466847"
      ]
     },
     "execution_count": 36,
     "metadata": {},
     "output_type": "execute_result"
    }
   ],
   "source": [
    "# Perform cross validation test\n",
    "clf = tree.DecisionTreeClassifier(criterion='entropy', max_depth=3)\n",
    "cross_val_scores = cross_val_score(clf, X_train, y_train, cv=5)\n",
    "cross_val_scores.mean()"
   ]
  },
  {
   "cell_type": "code",
   "execution_count": 38,
   "metadata": {
    "collapsed": false
   },
   "outputs": [
    {
     "data": {
      "text/plain": [
       "[0.46208530805687204, 0.5379146919431279]"
      ]
     },
     "execution_count": 38,
     "metadata": {},
     "output_type": "execute_result"
    }
   ],
   "source": [
    "# Count mean (chances of guessing right if assigning one result to all)\n",
    "[data.num.mean(), 1 - data.num.mean()]"
   ]
  },
  {
   "cell_type": "code",
   "execution_count": null,
   "metadata": {
    "collapsed": true
   },
   "outputs": [],
   "source": []
  }
 ],
 "metadata": {
  "kernelspec": {
   "display_name": "Python 3",
   "language": "python",
   "name": "python3"
  },
  "language_info": {
   "codemirror_mode": {
    "name": "ipython",
    "version": 3
   },
   "file_extension": ".py",
   "mimetype": "text/x-python",
   "name": "python",
   "nbconvert_exporter": "python",
   "pygments_lexer": "ipython3",
   "version": "3.6.0"
  }
 },
 "nbformat": 4,
 "nbformat_minor": 0
}
