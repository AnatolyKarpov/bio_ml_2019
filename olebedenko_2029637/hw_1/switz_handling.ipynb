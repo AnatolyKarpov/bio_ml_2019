{
 "cells": [
  {
   "cell_type": "markdown",
   "metadata": {},
   "source": [
    "## Project: Heart Disease. Decision tree classifier\n",
    "\n",
    "Dataset from Machine learning repository\n",
    "__[“Heart Disease Data Set”](http://archive.ics.uci.edu/ml/datasets/Heart+Disease)__."
   ]
  },
  {
   "cell_type": "markdown",
   "metadata": {},
   "source": [
    "### Import libraries"
   ]
  },
  {
   "cell_type": "code",
   "execution_count": 1,
   "metadata": {},
   "outputs": [],
   "source": [
    "import pandas as pd\n",
    "import numpy as np\n",
    "import matplotlib.pyplot as plt\n",
    "import seaborn as sns"
   ]
  },
  {
   "cell_type": "markdown",
   "metadata": {},
   "source": [
    "## Data Set Information\n",
    "\n",
    "- age: age in years \n",
    "- sex: sex (1 = male; 0 = female) \n",
    "- cp: chest pain type \n",
    "-- Value 1: typical angina \n",
    "-- Value 2: atypical angina \n",
    "-- Value 3: non-anginal pain \n",
    "-- Value 4: asymptomatic \n",
    "- trestbps: resting blood pressure (in mm Hg on admission to the hospital) \n",
    "- chol: serum cholestoral in mg/dl \n",
    "- fbs: (fasting blood sugar > 120 mg/dl) (1 = true; 0 = false) \n",
    "- restecg: resting electrocardiographic results \n",
    "-- Value 0: normal \n",
    "-- Value 1: having ST-T wave abnormality (T wave inversions and/or ST elevation or depression of > 0.05 mV) \n",
    "-- Value 2: showing probable or definite left ventricular hypertrophy by Estes' criteria \n",
    "- thalach: maximum heart rate achieved \n",
    "- exang: exercise induced angina (1 = yes; 0 = no) \n",
    "- oldpeak: ST depression induced by exercise relative to rest \n",
    "- place: place of registration disease\n",
    "-  num: diagnosis of heart disease (angiographic disease status) \n",
    "-- Value 0: < 50% diameter narrowing \n",
    "-- Value 1: > 50% diameter narrowing \n",
    "(in any major vessel: attributes 59 through 68 are vessels) "
   ]
  },
  {
   "cell_type": "markdown",
   "metadata": {},
   "source": [
    "## Data exploration. Basic descriptive statistics"
   ]
  },
  {
   "cell_type": "code",
   "execution_count": 2,
   "metadata": {},
   "outputs": [
    {
     "data": {
      "text/html": [
       "<div>\n",
       "<style scoped>\n",
       "    .dataframe tbody tr th:only-of-type {\n",
       "        vertical-align: middle;\n",
       "    }\n",
       "\n",
       "    .dataframe tbody tr th {\n",
       "        vertical-align: top;\n",
       "    }\n",
       "\n",
       "    .dataframe thead th {\n",
       "        text-align: right;\n",
       "    }\n",
       "</style>\n",
       "<table border=\"1\" class=\"dataframe\">\n",
       "  <thead>\n",
       "    <tr style=\"text-align: right;\">\n",
       "      <th></th>\n",
       "      <th>Unnamed: 0</th>\n",
       "      <th>ID</th>\n",
       "      <th>Age</th>\n",
       "      <th>Sex</th>\n",
       "      <th>cp</th>\n",
       "      <th>trestbps</th>\n",
       "      <th>chol</th>\n",
       "      <th>fbs</th>\n",
       "      <th>restecg</th>\n",
       "      <th>thalach</th>\n",
       "      <th>exang</th>\n",
       "      <th>oldpeak</th>\n",
       "      <th>num</th>\n",
       "      <th>Place</th>\n",
       "    </tr>\n",
       "  </thead>\n",
       "  <tbody>\n",
       "    <tr>\n",
       "      <th>0</th>\n",
       "      <td>1</td>\n",
       "      <td>1</td>\n",
       "      <td>28</td>\n",
       "      <td>male</td>\n",
       "      <td>atypical angina</td>\n",
       "      <td>130.0</td>\n",
       "      <td>132.0</td>\n",
       "      <td>False</td>\n",
       "      <td>showing probable or definite left ventricular ...</td>\n",
       "      <td>185.0</td>\n",
       "      <td>no</td>\n",
       "      <td>0.0</td>\n",
       "      <td>0</td>\n",
       "      <td>Hungary</td>\n",
       "    </tr>\n",
       "    <tr>\n",
       "      <th>1</th>\n",
       "      <td>2</td>\n",
       "      <td>2</td>\n",
       "      <td>29</td>\n",
       "      <td>male</td>\n",
       "      <td>atypical angina</td>\n",
       "      <td>120.0</td>\n",
       "      <td>243.0</td>\n",
       "      <td>False</td>\n",
       "      <td>normal</td>\n",
       "      <td>160.0</td>\n",
       "      <td>no</td>\n",
       "      <td>0.0</td>\n",
       "      <td>0</td>\n",
       "      <td>Hungary</td>\n",
       "    </tr>\n",
       "    <tr>\n",
       "      <th>2</th>\n",
       "      <td>3</td>\n",
       "      <td>3</td>\n",
       "      <td>29</td>\n",
       "      <td>male</td>\n",
       "      <td>atypical angina</td>\n",
       "      <td>140.0</td>\n",
       "      <td>NaN</td>\n",
       "      <td>False</td>\n",
       "      <td>normal</td>\n",
       "      <td>170.0</td>\n",
       "      <td>no</td>\n",
       "      <td>0.0</td>\n",
       "      <td>0</td>\n",
       "      <td>Hungary</td>\n",
       "    </tr>\n",
       "    <tr>\n",
       "      <th>3</th>\n",
       "      <td>4</td>\n",
       "      <td>4</td>\n",
       "      <td>30</td>\n",
       "      <td>female</td>\n",
       "      <td>typical angina</td>\n",
       "      <td>170.0</td>\n",
       "      <td>237.0</td>\n",
       "      <td>False</td>\n",
       "      <td>having ST-T wave abnormality (T wave inversion...</td>\n",
       "      <td>170.0</td>\n",
       "      <td>no</td>\n",
       "      <td>0.0</td>\n",
       "      <td>0</td>\n",
       "      <td>Hungary</td>\n",
       "    </tr>\n",
       "    <tr>\n",
       "      <th>4</th>\n",
       "      <td>5</td>\n",
       "      <td>5</td>\n",
       "      <td>31</td>\n",
       "      <td>female</td>\n",
       "      <td>atypical angina</td>\n",
       "      <td>100.0</td>\n",
       "      <td>219.0</td>\n",
       "      <td>False</td>\n",
       "      <td>having ST-T wave abnormality (T wave inversion...</td>\n",
       "      <td>150.0</td>\n",
       "      <td>no</td>\n",
       "      <td>0.0</td>\n",
       "      <td>0</td>\n",
       "      <td>Hungary</td>\n",
       "    </tr>\n",
       "  </tbody>\n",
       "</table>\n",
       "</div>"
      ],
      "text/plain": [
       "   Unnamed: 0  ID  Age     Sex               cp  trestbps   chol    fbs  \\\n",
       "0           1   1   28    male  atypical angina     130.0  132.0  False   \n",
       "1           2   2   29    male  atypical angina     120.0  243.0  False   \n",
       "2           3   3   29    male  atypical angina     140.0    NaN  False   \n",
       "3           4   4   30  female   typical angina     170.0  237.0  False   \n",
       "4           5   5   31  female  atypical angina     100.0  219.0  False   \n",
       "\n",
       "                                             restecg  thalach exang  oldpeak  \\\n",
       "0  showing probable or definite left ventricular ...    185.0    no      0.0   \n",
       "1                                             normal    160.0    no      0.0   \n",
       "2                                             normal    170.0    no      0.0   \n",
       "3  having ST-T wave abnormality (T wave inversion...    170.0    no      0.0   \n",
       "4  having ST-T wave abnormality (T wave inversion...    150.0    no      0.0   \n",
       "\n",
       "   num    Place  \n",
       "0    0  Hungary  \n",
       "1    0  Hungary  \n",
       "2    0  Hungary  \n",
       "3    0  Hungary  \n",
       "4    0  Hungary  "
      ]
     },
     "execution_count": 2,
     "metadata": {},
     "output_type": "execute_result"
    }
   ],
   "source": [
    "df= pd.read_csv(\"data/HeartDiseaseData.csv\")\n",
    "df.head()"
   ]
  },
  {
   "cell_type": "code",
   "execution_count": 3,
   "metadata": {},
   "outputs": [
    {
     "data": {
      "text/plain": [
       "Unnamed: 0      int64\n",
       "ID              int64\n",
       "Age             int64\n",
       "Sex            object\n",
       "cp             object\n",
       "trestbps      float64\n",
       "chol          float64\n",
       "fbs            object\n",
       "restecg        object\n",
       "thalach       float64\n",
       "exang          object\n",
       "oldpeak       float64\n",
       "num             int64\n",
       "Place          object\n",
       "dtype: object"
      ]
     },
     "execution_count": 3,
     "metadata": {},
     "output_type": "execute_result"
    }
   ],
   "source": [
    "df.dtypes"
   ]
  },
  {
   "cell_type": "code",
   "execution_count": 4,
   "metadata": {},
   "outputs": [],
   "source": [
    "df = df.drop(columns=[\"Unnamed: 0\", \"Place\", \"ID\"])\n",
    "df = df.dropna(how='any')"
   ]
  },
  {
   "cell_type": "code",
   "execution_count": 5,
   "metadata": {},
   "outputs": [],
   "source": [
    "df = df.rename(str.lower, axis='columns')\n",
    "df.rename(columns={'num': 'diagnosis'}, inplace=True)\n",
    "# df.rename(columns={'cp':'chest_pain_type', 'chol': 'cholestoral', \n",
    "#                    'thalach': 'maximum_heart_rate_achieved',\n",
    "#                   'num':'diagnosis', 'oldpeak':'ST_depression',\n",
    "#                   'fbs': 'fasting_blood_sugar',\n",
    "#                   'exang': 'exercise'}, inplace=True)"
   ]
  },
  {
   "cell_type": "code",
   "execution_count": 6,
   "metadata": {},
   "outputs": [],
   "source": [
    "df = pd.get_dummies(df, prefix='sex', columns=['sex'], drop_first = True)"
   ]
  },
  {
   "cell_type": "code",
   "execution_count": 7,
   "metadata": {},
   "outputs": [
    {
     "data": {
      "text/plain": [
       "0    248\n",
       "1     76\n",
       "2     18\n",
       "Name: restecg, dtype: int64"
      ]
     },
     "execution_count": 7,
     "metadata": {},
     "output_type": "execute_result"
    }
   ],
   "source": [
    "df['restecg'] = df.restecg.replace(regex = 'having ST-T wave abnormality \\(T wave inversions and/or ST elevation or depression of > 0.05 mV', value=1)\n",
    "df['restecg'] = df.restecg.replace(regex = 'normal', value=0)\n",
    "df['restecg'] = df.restecg.replace(regex = 'showing probable or definite left ventricular hypertrophy by Estes criteria', value=2)\n",
    "df.restecg.value_counts()"
   ]
  },
  {
   "cell_type": "code",
   "execution_count": 8,
   "metadata": {},
   "outputs": [],
   "source": [
    "df['fbs'] = df.fbs.astype(int)\n",
    "df['exang'] = df.exang.replace(regex = 'no', value=0)\n",
    "df['exang'] = df.exang.replace(regex = 'yes', value=1)"
   ]
  },
  {
   "cell_type": "code",
   "execution_count": 9,
   "metadata": {},
   "outputs": [],
   "source": [
    "df.cp.value_counts()\n",
    "df['cp'] = df.cp.replace(regex = 'asymptomatic', value=4)\n",
    "df['cp'] = df.cp.replace(regex = 'atypical angina', value=2)\n",
    "df['cp'] = df.cp.replace(regex = 'non-anginal pain', value=3)\n",
    "df['cp'] = df.cp.replace(regex = 'typical angina', value=1)"
   ]
  },
  {
   "cell_type": "code",
   "execution_count": 15,
   "metadata": {},
   "outputs": [
    {
     "data": {
      "text/plain": [
       "age            int64\n",
       "cp             int64\n",
       "trestbps     float64\n",
       "chol         float64\n",
       "fbs            int32\n",
       "restecg        int64\n",
       "thalach      float64\n",
       "exang          int64\n",
       "oldpeak      float64\n",
       "diagnosis      int64\n",
       "sex_male       uint8\n",
       "dtype: object"
      ]
     },
     "execution_count": 15,
     "metadata": {},
     "output_type": "execute_result"
    }
   ],
   "source": [
    "df.dtypes"
   ]
  },
  {
   "cell_type": "code",
   "execution_count": 39,
   "metadata": {},
   "outputs": [],
   "source": [
    "numeric_values = ['age', 'trestbps', 'thalach']"
   ]
  },
  {
   "cell_type": "code",
   "execution_count": 68,
   "metadata": {},
   "outputs": [
    {
     "data": {
      "text/plain": [
       "<seaborn.axisgrid.PairGrid at 0x1d95fa10>"
      ]
     },
     "execution_count": 68,
     "metadata": {},
     "output_type": "execute_result"
    },
    {
     "data": {
      "image/png": "[encoded data removed]",
      "text/plain": [
       "<Figure size 540x540 with 12 Axes>"
      ]
     },
     "metadata": {},
     "output_type": "display_data"
    }
   ],
   "source": [
    "sns.pairplot(df[['age', 'trestbps', 'thalach']])\n"
   ]
  },
  {
   "cell_type": "code",
   "execution_count": null,
   "metadata": {},
   "outputs": [],
   "source": [
    "# create a correlation heatmap\n",
    "sns.heatmap(df.select_dtypes([np.number]).corr(),annot=True, cmap='terrain', linewidths=0.1)\n",
    "fig=plt.gcf()\n",
    "fig.set_size_inches(8,6)\n",
    "plt.show()"
   ]
  },
  {
   "cell_type": "code",
   "execution_count": null,
   "metadata": {},
   "outputs": [],
   "source": [
    "# create four distplots\n",
    "plt.figure(figsize=(12,10))\n",
    "plt.subplot(221)\n",
    "sns.distplot(df[df['num']==0].Age)\n",
    "plt.title('Age of patients without heart disease')\n",
    "plt.subplot(222)\n",
    "sns.distplot(df[df['num']==1].Age)\n",
    "plt.title('Age of patients with heart disease')\n",
    "plt.subplot(223)\n",
    "sns.distplot(df[df['num']==0].thalach)\n",
    "plt.title('Max heart rate of patients without heart disease')\n",
    "plt.subplot(224)\n",
    "sns.distplot(df[df['num']==1].thalach)\n",
    "plt.title('Max heart rate of patients with heart disease')\n",
    "plt.show()"
   ]
  },
  {
   "cell_type": "markdown",
   "metadata": {},
   "source": [
    "Age distribution of healthy patients is much wider than ill people. The latter are at the highest risk in their sixties. Max heart rate distribution does not differ as much, but the risk peaks when max_heart_rate value is between 150 and 170. Higher values are more common for well patients. Below graphs will provide us with another perspective."
   ]
  },
  {
   "cell_type": "code",
   "execution_count": null,
   "metadata": {},
   "outputs": [],
   "source": [
    "# create swarmplot inside the violinplot\n",
    "plt.figure(figsize=(13,6))\n",
    "plt.subplot(121)\n",
    "sns.violinplot(x=\"num\", y=\"thalach\", data=df, inner=None)\n",
    "sns.swarmplot(x='num', y='thalach', data=df, color='w', alpha=0.5)\n",
    "plt.subplot(122)\n",
    "sns.swarmplot(x='num', y='Age', data=df)\n",
    "plt.show()"
   ]
  }
 ],
 "metadata": {
  "kernelspec": {
   "display_name": "Python 3",
   "language": "python",
   "name": "python3"
  },
  "language_info": {
   "codemirror_mode": {
    "name": "ipython",
    "version": 3
   },
   "file_extension": ".py",
   "mimetype": "text/x-python",
   "name": "python",
   "nbconvert_exporter": "python",
   "pygments_lexer": "ipython3",
   "version": "3.7.2"
  }
 },
 "nbformat": 4,
 "nbformat_minor": 1
}
